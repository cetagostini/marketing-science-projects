{
 "cells": [
  {
   "attachments": {},
   "cell_type": "markdown",
   "metadata": {},
   "source": [
    "# Import & Install tscausalinference\n",
    "\n",
    "```python\n",
    "!pip install tscausalinference\n",
    "```"
   ]
  },
  {
   "cell_type": "code",
   "execution_count": null,
   "metadata": {},
   "outputs": [],
   "source": [
    "from tscausalinference import tscausalinference\n",
    "\n",
    "import pandas as pd\n",
    "import numpy as np"
   ]
  },
  {
   "attachments": {},
   "cell_type": "markdown",
   "metadata": {},
   "source": [
    "## Generating synthetic time series data\n",
    "This data is created using a Python script that simulates two time series: a control time series and a treatment time series. These two time series are then merged into a single dataset. This is done to simulate the different scenarios that can occur in real-world experiments.\n",
    "\n",
    "To generate synthetic time series data, we use a formula that consists of different components. The first component is a trend component, which is a linear function that represents the general behavior of the data over time. The second component is a seasonal component, which represents the periodic fluctuations in the data that occur at fixed intervals. The third component is the noise component, which represents the random variation in the data that cannot be explained by the trend or the seasonality. As we are working with time series and regressions, we assume that this is the usual formula to predict our results.\n",
    "\n",
    "The formula for generating synthetic time series data is: \n",
    "\n",
    "`y(t) = trend(t) + seasonality(t) + noise(t)`\n",
    "\n",
    "Where `y(t)` is the value of the time series at time t, `trend(t)` is the value of the trend component at time t, `seasonality(t)` is the value of the seasonal component at time t, and `noise(t)` is the value of the noise component at time t.\n",
    "\n",
    "To generate the trend component, we assume that the trend is a linear function of time. That is, the trend can be represented by the equation:\n",
    "\n",
    "`trend(t) = alpha + beta * t`\n",
    "\n",
    "Where alpha is the intercept of the trend, beta is the slope of the trend, and t is the time index.\n",
    "\n",
    "To generate the seasonal component, we assume that the seasonality is a periodic function of time. That is, the seasonality can be represented by the equation:\n",
    "\n",
    "`seasonality(t) = sum_i=1^m gamma_i * cos(2 * pi * i * t / m) + delta`\n",
    "\n",
    "where gamma_i is the amplitude of the i-th seasonality component, m is the number of seasons in a year, and delta is the baseline level of the seasonality.\n",
    "\n",
    "To generate the noise component, we assume that the noise is a random variable that follows a normal distribution with zero mean and a standard deviation sigma.\n",
    "\n",
    "The main assumptions in the generation of synthetic time series data are that the trend and seasonality components are deterministic functions of time, and that the noise component is a random variable that is independent and identically distributed over time.\n",
    "\n",
    "Overall, the generation of synthetic time series data is a critical step in the sensitivity analysis methodology, as it allows us to simulate different scenarios and assess the robustness of our analysis to different levels of noise and effect sizes."
   ]
  },
  {
   "cell_type": "code",
   "execution_count": null,
   "metadata": {},
   "outputs": [],
   "source": [
    "# Define the length of the time series and the parameters for the trend, seasonality, and noise\n",
    "n = 200\n",
    "eff_n = 15\n",
    "trend = 0.05\n",
    "seasonality = 7\n",
    "noise_power = 0.2\n",
    "simulated_effect = 0.16\n",
    "\n",
    "# Create a time index\n",
    "control_index = pd.date_range('2022-01-01', periods=n, freq='D')\n",
    "# Create a time index\n",
    "treatment_index = pd.date_range(str(control_index.max()- pd.Timedelta(days=eff_n-1)), periods=eff_n, freq='D')\n",
    "\n",
    "# Create the second time series\n",
    "trend_component = np.arange(n) * trend\n",
    "seasonality_component = np.cos(np.arange(n) * 2 * np.pi / seasonality)\n",
    "data_control = trend_component + seasonality_component + np.random.normal(scale=noise_power, size=n)\n",
    "\n",
    "# Create the first time series\n",
    "effect_component = np.arange(len(treatment_index)) * simulated_effect\n",
    "data_treatment = data_control[-len(treatment_index):] * simulated_effect\n",
    "\n",
    "df = pd.merge(\n",
    "    pd.DataFrame({'control':data_control, 'ds':control_index}),\n",
    "    pd.DataFrame({'treatment':data_treatment, 'ds':treatment_index}),\n",
    "    on = 'ds',\n",
    "    how = 'left'\n",
    "    ).fillna(0)\n",
    "\n",
    "df['y'] = df.control  + df.treatment\n",
    "\n",
    "df.columns = ['yhat', 'ds', 'treatment_test', 'y']\n",
    "df['ds'] = pd.to_datetime(df.ds)\n",
    "\n",
    "df.info()"
   ]
  },
  {
   "cell_type": "code",
   "execution_count": null,
   "metadata": {},
   "outputs": [],
   "source": [
    "df.y.plot()"
   ]
  },
  {
   "cell_type": "code",
   "execution_count": null,
   "metadata": {},
   "outputs": [],
   "source": [
    "intervention = ['2022-07-04', '2022-07-19']"
   ]
  },
  {
   "cell_type": "code",
   "execution_count": null,
   "metadata": {},
   "outputs": [],
   "source": [
    "data = tscausalinference(data = df, intervention = intervention)"
   ]
  },
  {
   "cell_type": "code",
   "execution_count": null,
   "metadata": {},
   "outputs": [],
   "source": [
    "data.summary_intervention()"
   ]
  },
  {
   "cell_type": "code",
   "execution_count": null,
   "metadata": {},
   "outputs": [],
   "source": [
    "data.summary()"
   ]
  },
  {
   "cell_type": "code",
   "execution_count": null,
   "metadata": {},
   "outputs": [],
   "source": [
    "data.plot_intervention()"
   ]
  },
  {
   "cell_type": "code",
   "execution_count": null,
   "metadata": {},
   "outputs": [],
   "source": [
    "data.plot_simulations()"
   ]
  }
 ],
 "metadata": {
  "language_info": {
   "name": "python"
  },
  "orig_nbformat": 4
 },
 "nbformat": 4,
 "nbformat_minor": 2
}
